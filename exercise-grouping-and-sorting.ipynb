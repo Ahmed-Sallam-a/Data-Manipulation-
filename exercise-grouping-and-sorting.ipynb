{
 "cells": [
  {
   "cell_type": "markdown",
   "id": "95553180",
   "metadata": {
    "papermill": {
     "duration": 0.00813,
     "end_time": "2023-06-30T12:09:53.143305",
     "exception": false,
     "start_time": "2023-06-30T12:09:53.135175",
     "status": "completed"
    },
    "tags": []
   },
   "source": [
    "**This notebook is an exercise in the [Pandas](https://www.kaggle.com/learn/pandas) course.  You can reference the tutorial at [this link](https://www.kaggle.com/residentmario/grouping-and-sorting).**\n",
    "\n",
    "---\n"
   ]
  },
  {
   "cell_type": "markdown",
   "id": "2d6b6c50",
   "metadata": {
    "papermill": {
     "duration": 0.007295,
     "end_time": "2023-06-30T12:09:53.158330",
     "exception": false,
     "start_time": "2023-06-30T12:09:53.151035",
     "status": "completed"
    },
    "tags": []
   },
   "source": [
    "# Introduction\n",
    "\n",
    "In these exercises we'll apply groupwise analysis to our dataset.\n",
    "\n",
    "Run the code cell below to load the data before running the exercises."
   ]
  },
  {
   "cell_type": "code",
   "execution_count": 1,
   "id": "0b04bd58",
   "metadata": {
    "execution": {
     "iopub.execute_input": "2023-06-30T12:09:53.175351Z",
     "iopub.status.busy": "2023-06-30T12:09:53.174730Z",
     "iopub.status.idle": "2023-06-30T12:09:56.556201Z",
     "shell.execute_reply": "2023-06-30T12:09:56.555007Z"
    },
    "papermill": {
     "duration": 3.393482,
     "end_time": "2023-06-30T12:09:56.559319",
     "exception": false,
     "start_time": "2023-06-30T12:09:53.165837",
     "status": "completed"
    },
    "tags": []
   },
   "outputs": [
    {
     "name": "stdout",
     "output_type": "stream",
     "text": [
      "Setup complete.\n"
     ]
    }
   ],
   "source": [
    "import pandas as pd\n",
    "\n",
    "reviews = pd.read_csv(\"../input/wine-reviews/winemag-data-130k-v2.csv\", index_col=0)\n",
    "#pd.set_option(\"display.max_rows\", 5)\n",
    "\n",
    "from learntools.core import binder; binder.bind(globals())\n",
    "from learntools.pandas.grouping_and_sorting import *\n",
    "print(\"Setup complete.\")"
   ]
  },
  {
   "cell_type": "markdown",
   "id": "cd63fb07",
   "metadata": {
    "papermill": {
     "duration": 0.007332,
     "end_time": "2023-06-30T12:09:56.575677",
     "exception": false,
     "start_time": "2023-06-30T12:09:56.568345",
     "status": "completed"
    },
    "tags": []
   },
   "source": [
    "# Exercises"
   ]
  },
  {
   "cell_type": "markdown",
   "id": "847caa6e",
   "metadata": {
    "papermill": {
     "duration": 0.008932,
     "end_time": "2023-06-30T12:09:56.592234",
     "exception": false,
     "start_time": "2023-06-30T12:09:56.583302",
     "status": "completed"
    },
    "tags": []
   },
   "source": [
    "## 1.\n",
    "Who are the most common wine reviewers in the dataset? Create a `Series` whose index is the `taster_twitter_handle` category from the dataset, and whose values count how many reviews each person wrote."
   ]
  },
  {
   "cell_type": "code",
   "execution_count": 2,
   "id": "7b9656ec",
   "metadata": {
    "execution": {
     "iopub.execute_input": "2023-06-30T12:09:56.609262Z",
     "iopub.status.busy": "2023-06-30T12:09:56.608843Z",
     "iopub.status.idle": "2023-06-30T12:09:56.657971Z",
     "shell.execute_reply": "2023-06-30T12:09:56.656657Z"
    },
    "papermill": {
     "duration": 0.060565,
     "end_time": "2023-06-30T12:09:56.660468",
     "exception": false,
     "start_time": "2023-06-30T12:09:56.599903",
     "status": "completed"
    },
    "tags": []
   },
   "outputs": [
    {
     "data": {
      "application/javascript": [
       "parent.postMessage({\"jupyterEvent\": \"custom.exercise_interaction\", \"data\": {\"outcomeType\": 1, \"valueTowardsCompletion\": 0.16666666666666666, \"interactionType\": 1, \"questionType\": 1, \"questionId\": \"1_ReviewsWritten\", \"learnToolsVersion\": \"0.3.4\", \"failureMessage\": \"\", \"exceptionClass\": \"\", \"trace\": \"\"}}, \"*\")"
      ],
      "text/plain": [
       "<IPython.core.display.Javascript object>"
      ]
     },
     "metadata": {},
     "output_type": "display_data"
    },
    {
     "data": {
      "text/markdown": [
       "<span style=\"color:#33cc33\">Correct:</span> \n",
       "\n",
       "\n",
       "```python\n",
       "reviews_written = reviews.groupby('taster_twitter_handle').size()\n",
       "```\n",
       "or\n",
       "```python\n",
       "reviews_written = reviews.groupby('taster_twitter_handle').taster_twitter_handle.count()\n",
       "```\n"
      ],
      "text/plain": [
       "Correct: \n",
       "\n",
       "\n",
       "```python\n",
       "reviews_written = reviews.groupby('taster_twitter_handle').size()\n",
       "```\n",
       "or\n",
       "```python\n",
       "reviews_written = reviews.groupby('taster_twitter_handle').taster_twitter_handle.count()\n",
       "```"
      ]
     },
     "metadata": {},
     "output_type": "display_data"
    }
   ],
   "source": [
    "# Your code here\n",
    "reviews_written = reviews.groupby('taster_twitter_handle').taster_twitter_handle.count()\n",
    "\n",
    "# Check your answer\n",
    "q1.check()"
   ]
  },
  {
   "cell_type": "code",
   "execution_count": 3,
   "id": "6cf6a533",
   "metadata": {
    "execution": {
     "iopub.execute_input": "2023-06-30T12:09:56.678456Z",
     "iopub.status.busy": "2023-06-30T12:09:56.678045Z",
     "iopub.status.idle": "2023-06-30T12:09:56.683056Z",
     "shell.execute_reply": "2023-06-30T12:09:56.681732Z"
    },
    "papermill": {
     "duration": 0.016619,
     "end_time": "2023-06-30T12:09:56.685348",
     "exception": false,
     "start_time": "2023-06-30T12:09:56.668729",
     "status": "completed"
    },
    "tags": []
   },
   "outputs": [],
   "source": [
    "#q1.hint()\n",
    "#q1.solution()"
   ]
  },
  {
   "cell_type": "markdown",
   "id": "c7265f76",
   "metadata": {
    "papermill": {
     "duration": 0.007598,
     "end_time": "2023-06-30T12:09:56.700945",
     "exception": false,
     "start_time": "2023-06-30T12:09:56.693347",
     "status": "completed"
    },
    "tags": []
   },
   "source": [
    "## 2.\n",
    "What is the best wine I can buy for a given amount of money? Create a `Series` whose index is wine prices and whose values is the maximum number of points a wine costing that much was given in a review. Sort the values by price, ascending (so that `4.0` dollars is at the top and `3300.0` dollars is at the bottom)."
   ]
  },
  {
   "cell_type": "code",
   "execution_count": 4,
   "id": "099914cc",
   "metadata": {
    "execution": {
     "iopub.execute_input": "2023-06-30T12:09:56.718479Z",
     "iopub.status.busy": "2023-06-30T12:09:56.718066Z",
     "iopub.status.idle": "2023-06-30T12:09:56.732945Z",
     "shell.execute_reply": "2023-06-30T12:09:56.731710Z"
    },
    "papermill": {
     "duration": 0.026556,
     "end_time": "2023-06-30T12:09:56.735358",
     "exception": false,
     "start_time": "2023-06-30T12:09:56.708802",
     "status": "completed"
    },
    "tags": []
   },
   "outputs": [
    {
     "data": {
      "application/javascript": [
       "parent.postMessage({\"jupyterEvent\": \"custom.exercise_interaction\", \"data\": {\"outcomeType\": 1, \"valueTowardsCompletion\": 0.16666666666666666, \"interactionType\": 1, \"questionType\": 1, \"questionId\": \"2_BestRatingPerPrice\", \"learnToolsVersion\": \"0.3.4\", \"failureMessage\": \"\", \"exceptionClass\": \"\", \"trace\": \"\"}}, \"*\")"
      ],
      "text/plain": [
       "<IPython.core.display.Javascript object>"
      ]
     },
     "metadata": {},
     "output_type": "display_data"
    },
    {
     "data": {
      "text/markdown": [
       "<span style=\"color:#33cc33\">Correct</span>"
      ],
      "text/plain": [
       "Correct"
      ]
     },
     "metadata": {},
     "output_type": "display_data"
    }
   ],
   "source": [
    "best_rating_per_price = reviews.groupby('price').points.max()\n",
    "\n",
    "# Check your answer\n",
    "q2.check()"
   ]
  },
  {
   "cell_type": "code",
   "execution_count": 5,
   "id": "04793092",
   "metadata": {
    "execution": {
     "iopub.execute_input": "2023-06-30T12:09:56.753882Z",
     "iopub.status.busy": "2023-06-30T12:09:56.753509Z",
     "iopub.status.idle": "2023-06-30T12:09:56.758075Z",
     "shell.execute_reply": "2023-06-30T12:09:56.756845Z"
    },
    "papermill": {
     "duration": 0.016346,
     "end_time": "2023-06-30T12:09:56.760212",
     "exception": false,
     "start_time": "2023-06-30T12:09:56.743866",
     "status": "completed"
    },
    "tags": []
   },
   "outputs": [],
   "source": [
    "#q2.hint()\n",
    "#q2.solution()"
   ]
  },
  {
   "cell_type": "markdown",
   "id": "611bb5d3",
   "metadata": {
    "papermill": {
     "duration": 0.008129,
     "end_time": "2023-06-30T12:09:56.776655",
     "exception": false,
     "start_time": "2023-06-30T12:09:56.768526",
     "status": "completed"
    },
    "tags": []
   },
   "source": [
    "## 3.\n",
    "What are the minimum and maximum prices for each `variety` of wine? Create a `DataFrame` whose index is the `variety` category from the dataset and whose values are the `min` and `max` values thereof."
   ]
  },
  {
   "cell_type": "code",
   "execution_count": 6,
   "id": "85b161e9",
   "metadata": {
    "execution": {
     "iopub.execute_input": "2023-06-30T12:09:56.795081Z",
     "iopub.status.busy": "2023-06-30T12:09:56.794648Z",
     "iopub.status.idle": "2023-06-30T12:09:56.835414Z",
     "shell.execute_reply": "2023-06-30T12:09:56.834285Z"
    },
    "papermill": {
     "duration": 0.052945,
     "end_time": "2023-06-30T12:09:56.837871",
     "exception": false,
     "start_time": "2023-06-30T12:09:56.784926",
     "status": "completed"
    },
    "tags": []
   },
   "outputs": [
    {
     "data": {
      "application/javascript": [
       "parent.postMessage({\"jupyterEvent\": \"custom.exercise_interaction\", \"data\": {\"outcomeType\": 1, \"valueTowardsCompletion\": 0.16666666666666666, \"interactionType\": 1, \"questionType\": 1, \"questionId\": \"3_PriceExtremes\", \"learnToolsVersion\": \"0.3.4\", \"failureMessage\": \"\", \"exceptionClass\": \"\", \"trace\": \"\"}}, \"*\")"
      ],
      "text/plain": [
       "<IPython.core.display.Javascript object>"
      ]
     },
     "metadata": {},
     "output_type": "display_data"
    },
    {
     "data": {
      "text/markdown": [
       "<span style=\"color:#33cc33\">Correct</span>"
      ],
      "text/plain": [
       "Correct"
      ]
     },
     "metadata": {},
     "output_type": "display_data"
    }
   ],
   "source": [
    "price_extremes = reviews.groupby('variety').price.agg([min,max])\n",
    "\n",
    "# Check your answer\n",
    "q3.check()"
   ]
  },
  {
   "cell_type": "code",
   "execution_count": 7,
   "id": "6abc6bc3",
   "metadata": {
    "execution": {
     "iopub.execute_input": "2023-06-30T12:09:56.857918Z",
     "iopub.status.busy": "2023-06-30T12:09:56.857435Z",
     "iopub.status.idle": "2023-06-30T12:09:56.862960Z",
     "shell.execute_reply": "2023-06-30T12:09:56.862010Z"
    },
    "papermill": {
     "duration": 0.018365,
     "end_time": "2023-06-30T12:09:56.865311",
     "exception": false,
     "start_time": "2023-06-30T12:09:56.846946",
     "status": "completed"
    },
    "tags": []
   },
   "outputs": [],
   "source": [
    "#q3.hint()\n",
    "#q3.solution()"
   ]
  },
  {
   "cell_type": "markdown",
   "id": "150e2c15",
   "metadata": {
    "papermill": {
     "duration": 0.008382,
     "end_time": "2023-06-30T12:09:56.882718",
     "exception": false,
     "start_time": "2023-06-30T12:09:56.874336",
     "status": "completed"
    },
    "tags": []
   },
   "source": [
    "## 4.\n",
    "What are the most expensive wine varieties? Create a variable `sorted_varieties` containing a copy of the dataframe from the previous question where varieties are sorted in descending order based on minimum price, then on maximum price (to break ties)."
   ]
  },
  {
   "cell_type": "code",
   "execution_count": 8,
   "id": "d45e2184",
   "metadata": {
    "execution": {
     "iopub.execute_input": "2023-06-30T12:09:56.902014Z",
     "iopub.status.busy": "2023-06-30T12:09:56.901536Z",
     "iopub.status.idle": "2023-06-30T12:09:56.915172Z",
     "shell.execute_reply": "2023-06-30T12:09:56.914080Z"
    },
    "papermill": {
     "duration": 0.026203,
     "end_time": "2023-06-30T12:09:56.917624",
     "exception": false,
     "start_time": "2023-06-30T12:09:56.891421",
     "status": "completed"
    },
    "tags": []
   },
   "outputs": [
    {
     "data": {
      "application/javascript": [
       "parent.postMessage({\"jupyterEvent\": \"custom.exercise_interaction\", \"data\": {\"outcomeType\": 1, \"valueTowardsCompletion\": 0.16666666666666666, \"interactionType\": 1, \"questionType\": 1, \"questionId\": \"4_SortedVarieties\", \"learnToolsVersion\": \"0.3.4\", \"failureMessage\": \"\", \"exceptionClass\": \"\", \"trace\": \"\"}}, \"*\")"
      ],
      "text/plain": [
       "<IPython.core.display.Javascript object>"
      ]
     },
     "metadata": {},
     "output_type": "display_data"
    },
    {
     "data": {
      "text/markdown": [
       "<span style=\"color:#33cc33\">Correct</span>"
      ],
      "text/plain": [
       "Correct"
      ]
     },
     "metadata": {},
     "output_type": "display_data"
    }
   ],
   "source": [
    "sorted_varieties = price_extremes.sort_values(by=['min','max'],ascending=False)\n",
    "\n",
    "# Check your answer\n",
    "q4.check()"
   ]
  },
  {
   "cell_type": "code",
   "execution_count": 9,
   "id": "8828f46c",
   "metadata": {
    "execution": {
     "iopub.execute_input": "2023-06-30T12:09:56.937288Z",
     "iopub.status.busy": "2023-06-30T12:09:56.936916Z",
     "iopub.status.idle": "2023-06-30T12:09:56.941776Z",
     "shell.execute_reply": "2023-06-30T12:09:56.940642Z"
    },
    "papermill": {
     "duration": 0.017885,
     "end_time": "2023-06-30T12:09:56.944551",
     "exception": false,
     "start_time": "2023-06-30T12:09:56.926666",
     "status": "completed"
    },
    "tags": []
   },
   "outputs": [],
   "source": [
    "\n",
    "#q4.hint()\n",
    "#q4.solution()"
   ]
  },
  {
   "cell_type": "markdown",
   "id": "1d46eabc",
   "metadata": {
    "papermill": {
     "duration": 0.008827,
     "end_time": "2023-06-30T12:09:56.962486",
     "exception": false,
     "start_time": "2023-06-30T12:09:56.953659",
     "status": "completed"
    },
    "tags": []
   },
   "source": [
    "## 5.\n",
    "Create a `Series` whose index is reviewers and whose values is the average review score given out by that reviewer. Hint: you will need the `taster_name` and `points` columns."
   ]
  },
  {
   "cell_type": "code",
   "execution_count": 10,
   "id": "d00130a0",
   "metadata": {
    "execution": {
     "iopub.execute_input": "2023-06-30T12:09:56.982243Z",
     "iopub.status.busy": "2023-06-30T12:09:56.981855Z",
     "iopub.status.idle": "2023-06-30T12:09:57.019219Z",
     "shell.execute_reply": "2023-06-30T12:09:57.017579Z"
    },
    "papermill": {
     "duration": 0.050399,
     "end_time": "2023-06-30T12:09:57.021861",
     "exception": false,
     "start_time": "2023-06-30T12:09:56.971462",
     "status": "completed"
    },
    "tags": []
   },
   "outputs": [
    {
     "data": {
      "application/javascript": [
       "parent.postMessage({\"jupyterEvent\": \"custom.exercise_interaction\", \"data\": {\"outcomeType\": 1, \"valueTowardsCompletion\": 0.16666666666666666, \"interactionType\": 1, \"questionType\": 1, \"questionId\": \"5_ReviewerMeanRatings\", \"learnToolsVersion\": \"0.3.4\", \"failureMessage\": \"\", \"exceptionClass\": \"\", \"trace\": \"\"}}, \"*\")"
      ],
      "text/plain": [
       "<IPython.core.display.Javascript object>"
      ]
     },
     "metadata": {},
     "output_type": "display_data"
    },
    {
     "data": {
      "text/markdown": [
       "<span style=\"color:#33cc33\">Correct</span>"
      ],
      "text/plain": [
       "Correct"
      ]
     },
     "metadata": {},
     "output_type": "display_data"
    }
   ],
   "source": [
    "reviewer_mean_ratings = reviews.groupby('taster_name').points.mean()\n",
    "\n",
    "# Check your answer\n",
    "q5.check()"
   ]
  },
  {
   "cell_type": "code",
   "execution_count": 11,
   "id": "b25d4906",
   "metadata": {
    "execution": {
     "iopub.execute_input": "2023-06-30T12:09:57.043365Z",
     "iopub.status.busy": "2023-06-30T12:09:57.042997Z",
     "iopub.status.idle": "2023-06-30T12:09:57.046940Z",
     "shell.execute_reply": "2023-06-30T12:09:57.045838Z"
    },
    "papermill": {
     "duration": 0.018345,
     "end_time": "2023-06-30T12:09:57.049583",
     "exception": false,
     "start_time": "2023-06-30T12:09:57.031238",
     "status": "completed"
    },
    "tags": []
   },
   "outputs": [],
   "source": [
    "#q5.hint()\n",
    "#q5.solution()"
   ]
  },
  {
   "cell_type": "markdown",
   "id": "4aefa019",
   "metadata": {
    "papermill": {
     "duration": 0.008974,
     "end_time": "2023-06-30T12:09:57.068178",
     "exception": false,
     "start_time": "2023-06-30T12:09:57.059204",
     "status": "completed"
    },
    "tags": []
   },
   "source": [
    "Are there significant differences in the average scores assigned by the various reviewers? Run the cell below to use the `describe()` method to see a summary of the range of values."
   ]
  },
  {
   "cell_type": "code",
   "execution_count": 12,
   "id": "11780eee",
   "metadata": {
    "execution": {
     "iopub.execute_input": "2023-06-30T12:09:57.088752Z",
     "iopub.status.busy": "2023-06-30T12:09:57.088321Z",
     "iopub.status.idle": "2023-06-30T12:09:57.103521Z",
     "shell.execute_reply": "2023-06-30T12:09:57.102093Z"
    },
    "papermill": {
     "duration": 0.028471,
     "end_time": "2023-06-30T12:09:57.105856",
     "exception": false,
     "start_time": "2023-06-30T12:09:57.077385",
     "status": "completed"
    },
    "tags": []
   },
   "outputs": [
    {
     "data": {
      "text/plain": [
       "count    19.000000\n",
       "mean     88.233026\n",
       "std       1.243610\n",
       "min      85.855422\n",
       "25%      87.323501\n",
       "50%      88.536235\n",
       "75%      88.975256\n",
       "max      90.562551\n",
       "Name: points, dtype: float64"
      ]
     },
     "execution_count": 12,
     "metadata": {},
     "output_type": "execute_result"
    }
   ],
   "source": [
    "reviewer_mean_ratings.describe()"
   ]
  },
  {
   "cell_type": "markdown",
   "id": "1a06eacd",
   "metadata": {
    "papermill": {
     "duration": 0.009246,
     "end_time": "2023-06-30T12:09:57.125378",
     "exception": false,
     "start_time": "2023-06-30T12:09:57.116132",
     "status": "completed"
    },
    "tags": []
   },
   "source": [
    "## 6.\n",
    "What combination of countries and varieties are most common? Create a `Series` whose index is a `MultiIndex`of `{country, variety}` pairs. For example, a pinot noir produced in the US should map to `{\"US\", \"Pinot Noir\"}`. Sort the values in the `Series` in descending order based on wine count."
   ]
  },
  {
   "cell_type": "code",
   "execution_count": 13,
   "id": "0a0cb3ed",
   "metadata": {
    "execution": {
     "iopub.execute_input": "2023-06-30T12:09:57.146379Z",
     "iopub.status.busy": "2023-06-30T12:09:57.145937Z",
     "iopub.status.idle": "2023-06-30T12:09:57.212705Z",
     "shell.execute_reply": "2023-06-30T12:09:57.211503Z"
    },
    "papermill": {
     "duration": 0.08015,
     "end_time": "2023-06-30T12:09:57.214992",
     "exception": false,
     "start_time": "2023-06-30T12:09:57.134842",
     "status": "completed"
    },
    "tags": []
   },
   "outputs": [
    {
     "data": {
      "application/javascript": [
       "parent.postMessage({\"jupyterEvent\": \"custom.exercise_interaction\", \"data\": {\"outcomeType\": 1, \"valueTowardsCompletion\": 0.16666666666666666, \"interactionType\": 1, \"questionType\": 1, \"questionId\": \"6_GroupbyCountryVariety\", \"learnToolsVersion\": \"0.3.4\", \"failureMessage\": \"\", \"exceptionClass\": \"\", \"trace\": \"\"}}, \"*\")"
      ],
      "text/plain": [
       "<IPython.core.display.Javascript object>"
      ]
     },
     "metadata": {},
     "output_type": "display_data"
    },
    {
     "data": {
      "text/markdown": [
       "<span style=\"color:#33cc33\">Correct</span>"
      ],
      "text/plain": [
       "Correct"
      ]
     },
     "metadata": {},
     "output_type": "display_data"
    }
   ],
   "source": [
    "country_variety_counts = reviews.groupby(['country','variety']).size().sort_values(ascending=False)\n",
    "# Check your answer\n",
    "q6.check()"
   ]
  },
  {
   "cell_type": "code",
   "execution_count": 14,
   "id": "bb6334c1",
   "metadata": {
    "execution": {
     "iopub.execute_input": "2023-06-30T12:09:57.236471Z",
     "iopub.status.busy": "2023-06-30T12:09:57.236008Z",
     "iopub.status.idle": "2023-06-30T12:09:57.241537Z",
     "shell.execute_reply": "2023-06-30T12:09:57.240183Z"
    },
    "papermill": {
     "duration": 0.019228,
     "end_time": "2023-06-30T12:09:57.244033",
     "exception": false,
     "start_time": "2023-06-30T12:09:57.224805",
     "status": "completed"
    },
    "tags": []
   },
   "outputs": [],
   "source": [
    "\n",
    "#q6.hint()\n",
    "#q6.solution()"
   ]
  },
  {
   "cell_type": "markdown",
   "id": "dcc46fce",
   "metadata": {
    "papermill": {
     "duration": 0.009862,
     "end_time": "2023-06-30T12:09:57.263743",
     "exception": false,
     "start_time": "2023-06-30T12:09:57.253881",
     "status": "completed"
    },
    "tags": []
   },
   "source": [
    "# Keep going\n",
    "\n",
    "Move on to the [**data types and missing data**](https://www.kaggle.com/residentmario/data-types-and-missing-values)."
   ]
  },
  {
   "cell_type": "markdown",
   "id": "1b5ea123",
   "metadata": {
    "papermill": {
     "duration": 0.009305,
     "end_time": "2023-06-30T12:09:57.282747",
     "exception": false,
     "start_time": "2023-06-30T12:09:57.273442",
     "status": "completed"
    },
    "tags": []
   },
   "source": [
    "---\n",
    "\n",
    "\n",
    "\n",
    "\n",
    "*Have questions or comments? Visit the [course discussion forum](https://www.kaggle.com/learn/pandas/discussion) to chat with other learners.*"
   ]
  }
 ],
 "metadata": {
  "kernelspec": {
   "display_name": "Python 3",
   "language": "python",
   "name": "python3"
  },
  "language_info": {
   "codemirror_mode": {
    "name": "ipython",
    "version": 3
   },
   "file_extension": ".py",
   "mimetype": "text/x-python",
   "name": "python",
   "nbconvert_exporter": "python",
   "pygments_lexer": "ipython3",
   "version": "3.10.10"
  },
  "papermill": {
   "default_parameters": {},
   "duration": 18.370247,
   "end_time": "2023-06-30T12:09:58.214904",
   "environment_variables": {},
   "exception": null,
   "input_path": "__notebook__.ipynb",
   "output_path": "__notebook__.ipynb",
   "parameters": {},
   "start_time": "2023-06-30T12:09:39.844657",
   "version": "2.4.0"
  }
 },
 "nbformat": 4,
 "nbformat_minor": 5
}
