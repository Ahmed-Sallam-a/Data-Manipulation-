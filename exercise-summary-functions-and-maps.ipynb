{
 "cells": [
  {
   "cell_type": "markdown",
   "id": "559fcfbb",
   "metadata": {
    "papermill": {
     "duration": 0.005452,
     "end_time": "2023-06-29T23:44:37.389457",
     "exception": false,
     "start_time": "2023-06-29T23:44:37.384005",
     "status": "completed"
    },
    "tags": []
   },
   "source": [
    "**This notebook is an exercise in the [Pandas](https://www.kaggle.com/learn/pandas) course.  You can reference the tutorial at [this link](https://www.kaggle.com/residentmario/summary-functions-and-maps).**\n",
    "\n",
    "---\n"
   ]
  },
  {
   "cell_type": "markdown",
   "id": "f270589a",
   "metadata": {
    "papermill": {
     "duration": 0.005511,
     "end_time": "2023-06-29T23:44:37.399909",
     "exception": false,
     "start_time": "2023-06-29T23:44:37.394398",
     "status": "completed"
    },
    "tags": []
   },
   "source": [
    "# Introduction\n",
    "\n",
    "Now you are ready to get a deeper understanding of your data.\n",
    "\n",
    "Run the following cell to load your data and some utility functions (including code to check your answers)."
   ]
  },
  {
   "cell_type": "code",
   "execution_count": 1,
   "id": "44f5df1a",
   "metadata": {
    "execution": {
     "iopub.execute_input": "2023-06-29T23:44:37.411958Z",
     "iopub.status.busy": "2023-06-29T23:44:37.411021Z",
     "iopub.status.idle": "2023-06-29T23:44:42.915105Z",
     "shell.execute_reply": "2023-06-29T23:44:42.913331Z"
    },
    "papermill": {
     "duration": 5.511829,
     "end_time": "2023-06-29T23:44:42.916895",
     "exception": false,
     "start_time": "2023-06-29T23:44:37.405066",
     "status": "completed"
    },
    "tags": []
   },
   "outputs": [
    {
     "name": "stdout",
     "output_type": "stream",
     "text": [
      "Setup complete.\n"
     ]
    },
    {
     "data": {
      "text/html": [
       "<div>\n",
       "<style scoped>\n",
       "    .dataframe tbody tr th:only-of-type {\n",
       "        vertical-align: middle;\n",
       "    }\n",
       "\n",
       "    .dataframe tbody tr th {\n",
       "        vertical-align: top;\n",
       "    }\n",
       "\n",
       "    .dataframe thead th {\n",
       "        text-align: right;\n",
       "    }\n",
       "</style>\n",
       "<table border=\"1\" class=\"dataframe\">\n",
       "  <thead>\n",
       "    <tr style=\"text-align: right;\">\n",
       "      <th></th>\n",
       "      <th>country</th>\n",
       "      <th>description</th>\n",
       "      <th>designation</th>\n",
       "      <th>points</th>\n",
       "      <th>price</th>\n",
       "      <th>province</th>\n",
       "      <th>region_1</th>\n",
       "      <th>region_2</th>\n",
       "      <th>taster_name</th>\n",
       "      <th>taster_twitter_handle</th>\n",
       "      <th>title</th>\n",
       "      <th>variety</th>\n",
       "      <th>winery</th>\n",
       "    </tr>\n",
       "  </thead>\n",
       "  <tbody>\n",
       "    <tr>\n",
       "      <th>0</th>\n",
       "      <td>Italy</td>\n",
       "      <td>Aromas include tropical fruit, broom, brimston...</td>\n",
       "      <td>Vulkà Bianco</td>\n",
       "      <td>87</td>\n",
       "      <td>NaN</td>\n",
       "      <td>Sicily &amp; Sardinia</td>\n",
       "      <td>Etna</td>\n",
       "      <td>NaN</td>\n",
       "      <td>Kerin O’Keefe</td>\n",
       "      <td>@kerinokeefe</td>\n",
       "      <td>Nicosia 2013 Vulkà Bianco  (Etna)</td>\n",
       "      <td>White Blend</td>\n",
       "      <td>Nicosia</td>\n",
       "    </tr>\n",
       "    <tr>\n",
       "      <th>1</th>\n",
       "      <td>Portugal</td>\n",
       "      <td>This is ripe and fruity, a wine that is smooth...</td>\n",
       "      <td>Avidagos</td>\n",
       "      <td>87</td>\n",
       "      <td>15.0</td>\n",
       "      <td>Douro</td>\n",
       "      <td>NaN</td>\n",
       "      <td>NaN</td>\n",
       "      <td>Roger Voss</td>\n",
       "      <td>@vossroger</td>\n",
       "      <td>Quinta dos Avidagos 2011 Avidagos Red (Douro)</td>\n",
       "      <td>Portuguese Red</td>\n",
       "      <td>Quinta dos Avidagos</td>\n",
       "    </tr>\n",
       "    <tr>\n",
       "      <th>2</th>\n",
       "      <td>US</td>\n",
       "      <td>Tart and snappy, the flavors of lime flesh and...</td>\n",
       "      <td>NaN</td>\n",
       "      <td>87</td>\n",
       "      <td>14.0</td>\n",
       "      <td>Oregon</td>\n",
       "      <td>Willamette Valley</td>\n",
       "      <td>Willamette Valley</td>\n",
       "      <td>Paul Gregutt</td>\n",
       "      <td>@paulgwine</td>\n",
       "      <td>Rainstorm 2013 Pinot Gris (Willamette Valley)</td>\n",
       "      <td>Pinot Gris</td>\n",
       "      <td>Rainstorm</td>\n",
       "    </tr>\n",
       "    <tr>\n",
       "      <th>3</th>\n",
       "      <td>US</td>\n",
       "      <td>Pineapple rind, lemon pith and orange blossom ...</td>\n",
       "      <td>Reserve Late Harvest</td>\n",
       "      <td>87</td>\n",
       "      <td>13.0</td>\n",
       "      <td>Michigan</td>\n",
       "      <td>Lake Michigan Shore</td>\n",
       "      <td>NaN</td>\n",
       "      <td>Alexander Peartree</td>\n",
       "      <td>NaN</td>\n",
       "      <td>St. Julian 2013 Reserve Late Harvest Riesling ...</td>\n",
       "      <td>Riesling</td>\n",
       "      <td>St. Julian</td>\n",
       "    </tr>\n",
       "    <tr>\n",
       "      <th>4</th>\n",
       "      <td>US</td>\n",
       "      <td>Much like the regular bottling from 2012, this...</td>\n",
       "      <td>Vintner's Reserve Wild Child Block</td>\n",
       "      <td>87</td>\n",
       "      <td>65.0</td>\n",
       "      <td>Oregon</td>\n",
       "      <td>Willamette Valley</td>\n",
       "      <td>Willamette Valley</td>\n",
       "      <td>Paul Gregutt</td>\n",
       "      <td>@paulgwine</td>\n",
       "      <td>Sweet Cheeks 2012 Vintner's Reserve Wild Child...</td>\n",
       "      <td>Pinot Noir</td>\n",
       "      <td>Sweet Cheeks</td>\n",
       "    </tr>\n",
       "  </tbody>\n",
       "</table>\n",
       "</div>"
      ],
      "text/plain": [
       "    country                                        description  \\\n",
       "0     Italy  Aromas include tropical fruit, broom, brimston...   \n",
       "1  Portugal  This is ripe and fruity, a wine that is smooth...   \n",
       "2        US  Tart and snappy, the flavors of lime flesh and...   \n",
       "3        US  Pineapple rind, lemon pith and orange blossom ...   \n",
       "4        US  Much like the regular bottling from 2012, this...   \n",
       "\n",
       "                          designation  points  price           province  \\\n",
       "0                        Vulkà Bianco      87    NaN  Sicily & Sardinia   \n",
       "1                            Avidagos      87   15.0              Douro   \n",
       "2                                 NaN      87   14.0             Oregon   \n",
       "3                Reserve Late Harvest      87   13.0           Michigan   \n",
       "4  Vintner's Reserve Wild Child Block      87   65.0             Oregon   \n",
       "\n",
       "              region_1           region_2         taster_name  \\\n",
       "0                 Etna                NaN       Kerin O’Keefe   \n",
       "1                  NaN                NaN          Roger Voss   \n",
       "2    Willamette Valley  Willamette Valley        Paul Gregutt   \n",
       "3  Lake Michigan Shore                NaN  Alexander Peartree   \n",
       "4    Willamette Valley  Willamette Valley        Paul Gregutt   \n",
       "\n",
       "  taster_twitter_handle                                              title  \\\n",
       "0          @kerinokeefe                  Nicosia 2013 Vulkà Bianco  (Etna)   \n",
       "1            @vossroger      Quinta dos Avidagos 2011 Avidagos Red (Douro)   \n",
       "2           @paulgwine       Rainstorm 2013 Pinot Gris (Willamette Valley)   \n",
       "3                   NaN  St. Julian 2013 Reserve Late Harvest Riesling ...   \n",
       "4           @paulgwine   Sweet Cheeks 2012 Vintner's Reserve Wild Child...   \n",
       "\n",
       "          variety               winery  \n",
       "0     White Blend              Nicosia  \n",
       "1  Portuguese Red  Quinta dos Avidagos  \n",
       "2      Pinot Gris            Rainstorm  \n",
       "3        Riesling           St. Julian  \n",
       "4      Pinot Noir         Sweet Cheeks  "
      ]
     },
     "execution_count": 1,
     "metadata": {},
     "output_type": "execute_result"
    }
   ],
   "source": [
    "import pandas as pd\n",
    "pd.set_option(\"display.max_rows\", 5)\n",
    "reviews = pd.read_csv(\"../input/wine-reviews/winemag-data-130k-v2.csv\", index_col=0)\n",
    "\n",
    "from learntools.core import binder; binder.bind(globals())\n",
    "from learntools.pandas.summary_functions_and_maps import *\n",
    "print(\"Setup complete.\")\n",
    "\n",
    "reviews.head()"
   ]
  },
  {
   "cell_type": "markdown",
   "id": "baf5a8d5",
   "metadata": {
    "papermill": {
     "duration": 0.005453,
     "end_time": "2023-06-29T23:44:42.927991",
     "exception": false,
     "start_time": "2023-06-29T23:44:42.922538",
     "status": "completed"
    },
    "tags": []
   },
   "source": [
    "# Exercises"
   ]
  },
  {
   "cell_type": "markdown",
   "id": "5fb0f5ab",
   "metadata": {
    "papermill": {
     "duration": 0.007423,
     "end_time": "2023-06-29T23:44:42.940799",
     "exception": false,
     "start_time": "2023-06-29T23:44:42.933376",
     "status": "completed"
    },
    "tags": []
   },
   "source": [
    "## 1.\n",
    "\n",
    "What is the median of the `points` column in the `reviews` DataFrame?"
   ]
  },
  {
   "cell_type": "code",
   "execution_count": 2,
   "id": "c7d6e1b6",
   "metadata": {
    "execution": {
     "iopub.execute_input": "2023-06-29T23:44:42.954316Z",
     "iopub.status.busy": "2023-06-29T23:44:42.952859Z",
     "iopub.status.idle": "2023-06-29T23:44:42.962631Z",
     "shell.execute_reply": "2023-06-29T23:44:42.961964Z"
    },
    "papermill": {
     "duration": 0.018086,
     "end_time": "2023-06-29T23:44:42.964270",
     "exception": false,
     "start_time": "2023-06-29T23:44:42.946184",
     "status": "completed"
    },
    "tags": []
   },
   "outputs": [
    {
     "data": {
      "application/javascript": [
       "parent.postMessage({\"jupyterEvent\": \"custom.exercise_interaction\", \"data\": {\"outcomeType\": 1, \"valueTowardsCompletion\": 0.14285714285714285, \"interactionType\": 1, \"questionType\": 1, \"questionId\": \"1_MedianPoints\", \"learnToolsVersion\": \"0.3.4\", \"failureMessage\": \"\", \"exceptionClass\": \"\", \"trace\": \"\"}}, \"*\")"
      ],
      "text/plain": [
       "<IPython.core.display.Javascript object>"
      ]
     },
     "metadata": {},
     "output_type": "display_data"
    },
    {
     "data": {
      "text/markdown": [
       "<span style=\"color:#33cc33\">Correct</span>"
      ],
      "text/plain": [
       "Correct"
      ]
     },
     "metadata": {},
     "output_type": "display_data"
    }
   ],
   "source": [
    "median_points = reviews.points.median()\n",
    "\n",
    "# Check your answer\n",
    "q1.check()"
   ]
  },
  {
   "cell_type": "code",
   "execution_count": 3,
   "id": "318458a4",
   "metadata": {
    "execution": {
     "iopub.execute_input": "2023-06-29T23:44:42.977143Z",
     "iopub.status.busy": "2023-06-29T23:44:42.976833Z",
     "iopub.status.idle": "2023-06-29T23:44:42.981050Z",
     "shell.execute_reply": "2023-06-29T23:44:42.979750Z"
    },
    "papermill": {
     "duration": 0.013489,
     "end_time": "2023-06-29T23:44:42.983611",
     "exception": false,
     "start_time": "2023-06-29T23:44:42.970122",
     "status": "completed"
    },
    "tags": []
   },
   "outputs": [],
   "source": [
    "#q1.hint()\n",
    "#q1.solution()"
   ]
  },
  {
   "cell_type": "markdown",
   "id": "c6d9e9e4",
   "metadata": {
    "papermill": {
     "duration": 0.005238,
     "end_time": "2023-06-29T23:44:42.994532",
     "exception": false,
     "start_time": "2023-06-29T23:44:42.989294",
     "status": "completed"
    },
    "tags": []
   },
   "source": [
    "## 2. \n",
    "What countries are represented in the dataset? (Your answer should not include any duplicates.)"
   ]
  },
  {
   "cell_type": "code",
   "execution_count": 4,
   "id": "309b8148",
   "metadata": {
    "execution": {
     "iopub.execute_input": "2023-06-29T23:44:43.006405Z",
     "iopub.status.busy": "2023-06-29T23:44:43.006039Z",
     "iopub.status.idle": "2023-06-29T23:44:43.020286Z",
     "shell.execute_reply": "2023-06-29T23:44:43.019415Z"
    },
    "papermill": {
     "duration": 0.022866,
     "end_time": "2023-06-29T23:44:43.022615",
     "exception": false,
     "start_time": "2023-06-29T23:44:42.999749",
     "status": "completed"
    },
    "tags": []
   },
   "outputs": [
    {
     "data": {
      "application/javascript": [
       "parent.postMessage({\"jupyterEvent\": \"custom.exercise_interaction\", \"data\": {\"outcomeType\": 1, \"valueTowardsCompletion\": 0.14285714285714285, \"interactionType\": 1, \"questionType\": 2, \"questionId\": \"2_UniqueCountries\", \"learnToolsVersion\": \"0.3.4\", \"failureMessage\": \"\", \"exceptionClass\": \"\", \"trace\": \"\"}}, \"*\")"
      ],
      "text/plain": [
       "<IPython.core.display.Javascript object>"
      ]
     },
     "metadata": {},
     "output_type": "display_data"
    },
    {
     "data": {
      "text/markdown": [
       "<span style=\"color:#33cc33\">Correct</span>"
      ],
      "text/plain": [
       "Correct"
      ]
     },
     "metadata": {},
     "output_type": "display_data"
    }
   ],
   "source": [
    "countries = reviews.country.unique()\n",
    "\n",
    "# Check your answer\n",
    "q2.check()"
   ]
  },
  {
   "cell_type": "code",
   "execution_count": 5,
   "id": "ddfa39c4",
   "metadata": {
    "execution": {
     "iopub.execute_input": "2023-06-29T23:44:43.036852Z",
     "iopub.status.busy": "2023-06-29T23:44:43.036042Z",
     "iopub.status.idle": "2023-06-29T23:44:43.040138Z",
     "shell.execute_reply": "2023-06-29T23:44:43.039413Z"
    },
    "papermill": {
     "duration": 0.013207,
     "end_time": "2023-06-29T23:44:43.041923",
     "exception": false,
     "start_time": "2023-06-29T23:44:43.028716",
     "status": "completed"
    },
    "tags": []
   },
   "outputs": [],
   "source": [
    "#q2.hint()\n",
    "#q2.solution()"
   ]
  },
  {
   "cell_type": "markdown",
   "id": "688b0d1a",
   "metadata": {
    "papermill": {
     "duration": 0.00576,
     "end_time": "2023-06-29T23:44:43.053563",
     "exception": false,
     "start_time": "2023-06-29T23:44:43.047803",
     "status": "completed"
    },
    "tags": []
   },
   "source": [
    "## 3.\n",
    "How often does each country appear in the dataset? Create a Series `reviews_per_country` mapping countries to the count of reviews of wines from that country."
   ]
  },
  {
   "cell_type": "code",
   "execution_count": 6,
   "id": "6292ac90",
   "metadata": {
    "execution": {
     "iopub.execute_input": "2023-06-29T23:44:43.066601Z",
     "iopub.status.busy": "2023-06-29T23:44:43.066275Z",
     "iopub.status.idle": "2023-06-29T23:44:43.081078Z",
     "shell.execute_reply": "2023-06-29T23:44:43.080184Z"
    },
    "papermill": {
     "duration": 0.023507,
     "end_time": "2023-06-29T23:44:43.082821",
     "exception": false,
     "start_time": "2023-06-29T23:44:43.059314",
     "status": "completed"
    },
    "tags": []
   },
   "outputs": [
    {
     "data": {
      "application/javascript": [
       "parent.postMessage({\"jupyterEvent\": \"custom.exercise_interaction\", \"data\": {\"outcomeType\": 1, \"valueTowardsCompletion\": 0.14285714285714285, \"interactionType\": 1, \"questionType\": 1, \"questionId\": \"3_ReviewsPerCountry\", \"learnToolsVersion\": \"0.3.4\", \"failureMessage\": \"\", \"exceptionClass\": \"\", \"trace\": \"\"}}, \"*\")"
      ],
      "text/plain": [
       "<IPython.core.display.Javascript object>"
      ]
     },
     "metadata": {},
     "output_type": "display_data"
    },
    {
     "data": {
      "text/markdown": [
       "<span style=\"color:#33cc33\">Correct</span>"
      ],
      "text/plain": [
       "Correct"
      ]
     },
     "metadata": {},
     "output_type": "display_data"
    }
   ],
   "source": [
    "reviews_per_country = reviews.country.value_counts()\n",
    "\n",
    "# Check your answer\n",
    "q3.check()"
   ]
  },
  {
   "cell_type": "code",
   "execution_count": 7,
   "id": "0ea11757",
   "metadata": {
    "execution": {
     "iopub.execute_input": "2023-06-29T23:44:43.095914Z",
     "iopub.status.busy": "2023-06-29T23:44:43.095613Z",
     "iopub.status.idle": "2023-06-29T23:44:43.099173Z",
     "shell.execute_reply": "2023-06-29T23:44:43.098369Z"
    },
    "papermill": {
     "duration": 0.011936,
     "end_time": "2023-06-29T23:44:43.100706",
     "exception": false,
     "start_time": "2023-06-29T23:44:43.088770",
     "status": "completed"
    },
    "tags": []
   },
   "outputs": [],
   "source": [
    "#q3.hint()\n",
    "#q3.solution()"
   ]
  },
  {
   "cell_type": "markdown",
   "id": "a5ab4cbc",
   "metadata": {
    "papermill": {
     "duration": 0.006227,
     "end_time": "2023-06-29T23:44:43.112743",
     "exception": false,
     "start_time": "2023-06-29T23:44:43.106516",
     "status": "completed"
    },
    "tags": []
   },
   "source": [
    "## 4.\n",
    "Create variable `centered_price` containing a version of the `price` column with the mean price subtracted.\n",
    "\n",
    "(Note: this 'centering' transformation is a common preprocessing step before applying various machine learning algorithms.) "
   ]
  },
  {
   "cell_type": "code",
   "execution_count": 8,
   "id": "143c8ecc",
   "metadata": {
    "execution": {
     "iopub.execute_input": "2023-06-29T23:44:43.127301Z",
     "iopub.status.busy": "2023-06-29T23:44:43.126943Z",
     "iopub.status.idle": "2023-06-29T23:44:43.135286Z",
     "shell.execute_reply": "2023-06-29T23:44:43.134403Z"
    },
    "papermill": {
     "duration": 0.017283,
     "end_time": "2023-06-29T23:44:43.136900",
     "exception": false,
     "start_time": "2023-06-29T23:44:43.119617",
     "status": "completed"
    },
    "tags": []
   },
   "outputs": [
    {
     "data": {
      "application/javascript": [
       "parent.postMessage({\"jupyterEvent\": \"custom.exercise_interaction\", \"data\": {\"outcomeType\": 1, \"valueTowardsCompletion\": 0.14285714285714285, \"interactionType\": 1, \"questionType\": 1, \"questionId\": \"4_CenteredPrice\", \"learnToolsVersion\": \"0.3.4\", \"failureMessage\": \"\", \"exceptionClass\": \"\", \"trace\": \"\"}}, \"*\")"
      ],
      "text/plain": [
       "<IPython.core.display.Javascript object>"
      ]
     },
     "metadata": {},
     "output_type": "display_data"
    },
    {
     "data": {
      "text/markdown": [
       "<span style=\"color:#33cc33\">Correct</span>"
      ],
      "text/plain": [
       "Correct"
      ]
     },
     "metadata": {},
     "output_type": "display_data"
    }
   ],
   "source": [
    "centered_price = reviews.price - reviews.price.mean()\n",
    "\n",
    "# Check your answer\n",
    "q4.check()"
   ]
  },
  {
   "cell_type": "code",
   "execution_count": 9,
   "id": "ae171cb7",
   "metadata": {
    "execution": {
     "iopub.execute_input": "2023-06-29T23:44:43.150664Z",
     "iopub.status.busy": "2023-06-29T23:44:43.150382Z",
     "iopub.status.idle": "2023-06-29T23:44:43.153829Z",
     "shell.execute_reply": "2023-06-29T23:44:43.153024Z"
    },
    "papermill": {
     "duration": 0.012975,
     "end_time": "2023-06-29T23:44:43.156293",
     "exception": false,
     "start_time": "2023-06-29T23:44:43.143318",
     "status": "completed"
    },
    "tags": []
   },
   "outputs": [],
   "source": [
    "#q4.hint()\n",
    "#q4.solution()"
   ]
  },
  {
   "cell_type": "markdown",
   "id": "38c2577e",
   "metadata": {
    "papermill": {
     "duration": 0.00587,
     "end_time": "2023-06-29T23:44:43.168816",
     "exception": false,
     "start_time": "2023-06-29T23:44:43.162946",
     "status": "completed"
    },
    "tags": []
   },
   "source": [
    "## 5.\n",
    "I'm an economical wine buyer. Which wine is the \"best bargain\"? Create a variable `bargain_wine` with the title of the wine with the highest points-to-price ratio in the dataset."
   ]
  },
  {
   "cell_type": "code",
   "execution_count": 10,
   "id": "d16b3743",
   "metadata": {
    "execution": {
     "iopub.execute_input": "2023-06-29T23:44:43.182607Z",
     "iopub.status.busy": "2023-06-29T23:44:43.182262Z",
     "iopub.status.idle": "2023-06-29T23:44:43.192634Z",
     "shell.execute_reply": "2023-06-29T23:44:43.191744Z"
    },
    "papermill": {
     "duration": 0.019394,
     "end_time": "2023-06-29T23:44:43.194365",
     "exception": false,
     "start_time": "2023-06-29T23:44:43.174971",
     "status": "completed"
    },
    "tags": []
   },
   "outputs": [
    {
     "data": {
      "application/javascript": [
       "parent.postMessage({\"jupyterEvent\": \"custom.exercise_interaction\", \"data\": {\"outcomeType\": 1, \"valueTowardsCompletion\": 0.14285714285714285, \"interactionType\": 1, \"questionType\": 2, \"questionId\": \"5_BargainWine\", \"learnToolsVersion\": \"0.3.4\", \"failureMessage\": \"\", \"exceptionClass\": \"\", \"trace\": \"\"}}, \"*\")"
      ],
      "text/plain": [
       "<IPython.core.display.Javascript object>"
      ]
     },
     "metadata": {},
     "output_type": "display_data"
    },
    {
     "data": {
      "text/markdown": [
       "<span style=\"color:#33cc33\">Correct</span>"
      ],
      "text/plain": [
       "Correct"
      ]
     },
     "metadata": {},
     "output_type": "display_data"
    }
   ],
   "source": [
    "bargain_wine = reviews.loc[(reviews.points/reviews.price).idxmax(),'title']\n",
    "\n",
    "# Check your answer\n",
    "q5.check()"
   ]
  },
  {
   "cell_type": "code",
   "execution_count": 11,
   "id": "a4aa8e45",
   "metadata": {
    "execution": {
     "iopub.execute_input": "2023-06-29T23:44:43.208483Z",
     "iopub.status.busy": "2023-06-29T23:44:43.208193Z",
     "iopub.status.idle": "2023-06-29T23:44:43.211360Z",
     "shell.execute_reply": "2023-06-29T23:44:43.210574Z"
    },
    "papermill": {
     "duration": 0.01201,
     "end_time": "2023-06-29T23:44:43.212876",
     "exception": false,
     "start_time": "2023-06-29T23:44:43.200866",
     "status": "completed"
    },
    "tags": []
   },
   "outputs": [],
   "source": [
    "#q5.hint()\n",
    "#q5.solution()"
   ]
  },
  {
   "cell_type": "markdown",
   "id": "013211fc",
   "metadata": {
    "papermill": {
     "duration": 0.0059,
     "end_time": "2023-06-29T23:44:43.225204",
     "exception": false,
     "start_time": "2023-06-29T23:44:43.219304",
     "status": "completed"
    },
    "tags": []
   },
   "source": [
    "## 6.\n",
    "There are only so many words you can use when describing a bottle of wine. Is a wine more likely to be \"tropical\" or \"fruity\"? Create a Series `descriptor_counts` counting how many times each of these two words appears in the `description` column in the dataset. (For simplicity, let's ignore the capitalized versions of these words.)"
   ]
  },
  {
   "cell_type": "code",
   "execution_count": 12,
   "id": "6fa3f0ce",
   "metadata": {
    "execution": {
     "iopub.execute_input": "2023-06-29T23:44:43.238989Z",
     "iopub.status.busy": "2023-06-29T23:44:43.238665Z",
     "iopub.status.idle": "2023-06-29T23:44:43.348582Z",
     "shell.execute_reply": "2023-06-29T23:44:43.347506Z"
    },
    "papermill": {
     "duration": 0.119065,
     "end_time": "2023-06-29T23:44:43.350432",
     "exception": false,
     "start_time": "2023-06-29T23:44:43.231367",
     "status": "completed"
    },
    "tags": []
   },
   "outputs": [
    {
     "data": {
      "application/javascript": [
       "parent.postMessage({\"jupyterEvent\": \"custom.exercise_interaction\", \"data\": {\"outcomeType\": 1, \"valueTowardsCompletion\": 0.14285714285714285, \"interactionType\": 1, \"questionType\": 1, \"questionId\": \"6_DescriptorCounts\", \"learnToolsVersion\": \"0.3.4\", \"failureMessage\": \"\", \"exceptionClass\": \"\", \"trace\": \"\"}}, \"*\")"
      ],
      "text/plain": [
       "<IPython.core.display.Javascript object>"
      ]
     },
     "metadata": {},
     "output_type": "display_data"
    },
    {
     "data": {
      "text/markdown": [
       "<span style=\"color:#33cc33\">Correct</span>"
      ],
      "text/plain": [
       "Correct"
      ]
     },
     "metadata": {},
     "output_type": "display_data"
    }
   ],
   "source": [
    "trop = reviews.description.map(lambda desc: 'tropical'in desc).sum()\n",
    "fruity= reviews.description.map(lambda desc : 'fruity' in desc).sum()\n",
    "descriptor_counts = pd.Series([trop,fruity],index=['tropical','fruity'])\n",
    "# Check your answer\n",
    "q6.check()"
   ]
  },
  {
   "cell_type": "code",
   "execution_count": 13,
   "id": "cd0392db",
   "metadata": {
    "execution": {
     "iopub.execute_input": "2023-06-29T23:44:43.366001Z",
     "iopub.status.busy": "2023-06-29T23:44:43.365659Z",
     "iopub.status.idle": "2023-06-29T23:44:43.369538Z",
     "shell.execute_reply": "2023-06-29T23:44:43.368692Z"
    },
    "papermill": {
     "duration": 0.013562,
     "end_time": "2023-06-29T23:44:43.371296",
     "exception": false,
     "start_time": "2023-06-29T23:44:43.357734",
     "status": "completed"
    },
    "tags": []
   },
   "outputs": [],
   "source": [
    "#q6.hint()\n",
    "#q6.solution()"
   ]
  },
  {
   "cell_type": "markdown",
   "id": "5c3640b8",
   "metadata": {
    "papermill": {
     "duration": 0.006548,
     "end_time": "2023-06-29T23:44:43.384850",
     "exception": false,
     "start_time": "2023-06-29T23:44:43.378302",
     "status": "completed"
    },
    "tags": []
   },
   "source": [
    "## 7.\n",
    "We'd like to host these wine reviews on our website, but a rating system ranging from 80 to 100 points is too hard to understand - we'd like to translate them into simple star ratings. A score of 95 or higher counts as 3 stars, a score of at least 85 but less than 95 is 2 stars. Any other score is 1 star.\n",
    "\n",
    "Also, the Canadian Vintners Association bought a lot of ads on the site, so any wines from Canada should automatically get 3 stars, regardless of points.\n",
    "\n",
    "Create a series `star_ratings` with the number of stars corresponding to each review in the dataset."
   ]
  },
  {
   "cell_type": "code",
   "execution_count": 14,
   "id": "98414533",
   "metadata": {
    "execution": {
     "iopub.execute_input": "2023-06-29T23:44:43.400029Z",
     "iopub.status.busy": "2023-06-29T23:44:43.399697Z",
     "iopub.status.idle": "2023-06-29T23:44:46.387972Z",
     "shell.execute_reply": "2023-06-29T23:44:46.387047Z"
    },
    "papermill": {
     "duration": 2.998459,
     "end_time": "2023-06-29T23:44:46.390101",
     "exception": false,
     "start_time": "2023-06-29T23:44:43.391642",
     "status": "completed"
    },
    "tags": []
   },
   "outputs": [
    {
     "data": {
      "application/javascript": [
       "parent.postMessage({\"jupyterEvent\": \"custom.exercise_interaction\", \"data\": {\"outcomeType\": 1, \"valueTowardsCompletion\": 0.14285714285714285, \"interactionType\": 1, \"questionType\": 1, \"questionId\": \"7_StarRatings\", \"learnToolsVersion\": \"0.3.4\", \"failureMessage\": \"\", \"exceptionClass\": \"\", \"trace\": \"\"}}, \"*\")"
      ],
      "text/plain": [
       "<IPython.core.display.Javascript object>"
      ]
     },
     "metadata": {},
     "output_type": "display_data"
    },
    {
     "data": {
      "text/markdown": [
       "<span style=\"color:#33cc33\">Correct</span>"
      ],
      "text/plain": [
       "Correct"
      ]
     },
     "metadata": {},
     "output_type": "display_data"
    }
   ],
   "source": [
    "def rating (row):\n",
    "    if row.country == 'Canada' : return 3\n",
    "    elif row.points >=95 : return 3\n",
    "    elif row.points >=85 : return 2\n",
    "    else: return 1\n",
    "star_ratings = reviews.apply(rating,axis='columns')\n",
    "\n",
    "# Check your answer\n",
    "q7.check()"
   ]
  },
  {
   "cell_type": "code",
   "execution_count": 15,
   "id": "11def80d",
   "metadata": {
    "execution": {
     "iopub.execute_input": "2023-06-29T23:44:46.406313Z",
     "iopub.status.busy": "2023-06-29T23:44:46.405941Z",
     "iopub.status.idle": "2023-06-29T23:44:46.409962Z",
     "shell.execute_reply": "2023-06-29T23:44:46.408950Z"
    },
    "papermill": {
     "duration": 0.014783,
     "end_time": "2023-06-29T23:44:46.412609",
     "exception": false,
     "start_time": "2023-06-29T23:44:46.397826",
     "status": "completed"
    },
    "tags": []
   },
   "outputs": [],
   "source": [
    "\n",
    "#q7.hint()\n",
    "#q7.solution()"
   ]
  },
  {
   "cell_type": "markdown",
   "id": "c8173a8e",
   "metadata": {
    "papermill": {
     "duration": 0.006864,
     "end_time": "2023-06-29T23:44:46.426636",
     "exception": false,
     "start_time": "2023-06-29T23:44:46.419772",
     "status": "completed"
    },
    "tags": []
   },
   "source": [
    "# Keep going\n",
    "Continue to **[grouping and sorting](https://www.kaggle.com/residentmario/grouping-and-sorting)**."
   ]
  },
  {
   "cell_type": "markdown",
   "id": "77adadbc",
   "metadata": {
    "papermill": {
     "duration": 0.006446,
     "end_time": "2023-06-29T23:44:46.439965",
     "exception": false,
     "start_time": "2023-06-29T23:44:46.433519",
     "status": "completed"
    },
    "tags": []
   },
   "source": [
    "---\n",
    "\n",
    "\n",
    "\n",
    "\n",
    "*Have questions or comments? Visit the [course discussion forum](https://www.kaggle.com/learn/pandas/discussion) to chat with other learners.*"
   ]
  }
 ],
 "metadata": {
  "kernelspec": {
   "display_name": "Python 3",
   "language": "python",
   "name": "python3"
  },
  "language_info": {
   "codemirror_mode": {
    "name": "ipython",
    "version": 3
   },
   "file_extension": ".py",
   "mimetype": "text/x-python",
   "name": "python",
   "nbconvert_exporter": "python",
   "pygments_lexer": "ipython3",
   "version": "3.10.10"
  },
  "papermill": {
   "default_parameters": {},
   "duration": 18.534347,
   "end_time": "2023-06-29T23:44:47.270113",
   "environment_variables": {},
   "exception": null,
   "input_path": "__notebook__.ipynb",
   "output_path": "__notebook__.ipynb",
   "parameters": {},
   "start_time": "2023-06-29T23:44:28.735766",
   "version": "2.4.0"
  }
 },
 "nbformat": 4,
 "nbformat_minor": 5
}
