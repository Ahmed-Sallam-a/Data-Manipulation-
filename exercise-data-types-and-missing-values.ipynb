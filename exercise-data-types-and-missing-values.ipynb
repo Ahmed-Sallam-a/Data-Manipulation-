{
 "cells": [
  {
   "cell_type": "markdown",
   "id": "382cd519",
   "metadata": {
    "papermill": {
     "duration": 0.006741,
     "end_time": "2023-06-30T12:17:56.943256",
     "exception": false,
     "start_time": "2023-06-30T12:17:56.936515",
     "status": "completed"
    },
    "tags": []
   },
   "source": [
    "**This notebook is an exercise in the [Pandas](https://www.kaggle.com/learn/pandas) course.  You can reference the tutorial at [this link](https://www.kaggle.com/residentmario/data-types-and-missing-values).**\n",
    "\n",
    "---\n"
   ]
  },
  {
   "cell_type": "markdown",
   "id": "02e9ae23",
   "metadata": {
    "papermill": {
     "duration": 0.005109,
     "end_time": "2023-06-30T12:17:56.954096",
     "exception": false,
     "start_time": "2023-06-30T12:17:56.948987",
     "status": "completed"
    },
    "tags": []
   },
   "source": [
    "# Introduction\n",
    "\n",
    "Run the following cell to load your data and some utility functions."
   ]
  },
  {
   "cell_type": "code",
   "execution_count": 1,
   "id": "d4e1f101",
   "metadata": {
    "execution": {
     "iopub.execute_input": "2023-06-30T12:17:56.967451Z",
     "iopub.status.busy": "2023-06-30T12:17:56.966884Z",
     "iopub.status.idle": "2023-06-30T12:18:00.320082Z",
     "shell.execute_reply": "2023-06-30T12:18:00.318705Z"
    },
    "papermill": {
     "duration": 3.363809,
     "end_time": "2023-06-30T12:18:00.323259",
     "exception": false,
     "start_time": "2023-06-30T12:17:56.959450",
     "status": "completed"
    },
    "tags": []
   },
   "outputs": [
    {
     "name": "stdout",
     "output_type": "stream",
     "text": [
      "Setup complete.\n"
     ]
    }
   ],
   "source": [
    "import pandas as pd\n",
    "\n",
    "reviews = pd.read_csv(\"../input/wine-reviews/winemag-data-130k-v2.csv\", index_col=0)\n",
    "\n",
    "from learntools.core import binder; binder.bind(globals())\n",
    "from learntools.pandas.data_types_and_missing_data import *\n",
    "print(\"Setup complete.\")"
   ]
  },
  {
   "cell_type": "markdown",
   "id": "30436025",
   "metadata": {
    "papermill": {
     "duration": 0.005194,
     "end_time": "2023-06-30T12:18:00.334139",
     "exception": false,
     "start_time": "2023-06-30T12:18:00.328945",
     "status": "completed"
    },
    "tags": []
   },
   "source": [
    "# Exercises"
   ]
  },
  {
   "cell_type": "markdown",
   "id": "df7b81eb",
   "metadata": {
    "papermill": {
     "duration": 0.005201,
     "end_time": "2023-06-30T12:18:00.344910",
     "exception": false,
     "start_time": "2023-06-30T12:18:00.339709",
     "status": "completed"
    },
    "tags": []
   },
   "source": [
    "## 1. \n",
    "What is the data type of the `points` column in the dataset?"
   ]
  },
  {
   "cell_type": "code",
   "execution_count": 2,
   "id": "8de71f00",
   "metadata": {
    "execution": {
     "iopub.execute_input": "2023-06-30T12:18:00.357791Z",
     "iopub.status.busy": "2023-06-30T12:18:00.357342Z",
     "iopub.status.idle": "2023-06-30T12:18:00.370221Z",
     "shell.execute_reply": "2023-06-30T12:18:00.369009Z"
    },
    "papermill": {
     "duration": 0.022174,
     "end_time": "2023-06-30T12:18:00.372737",
     "exception": false,
     "start_time": "2023-06-30T12:18:00.350563",
     "status": "completed"
    },
    "tags": []
   },
   "outputs": [
    {
     "data": {
      "application/javascript": [
       "parent.postMessage({\"jupyterEvent\": \"custom.exercise_interaction\", \"data\": {\"outcomeType\": 1, \"valueTowardsCompletion\": 0.25, \"interactionType\": 1, \"questionType\": 1, \"questionId\": \"1_PointsDtype\", \"learnToolsVersion\": \"0.3.4\", \"failureMessage\": \"\", \"exceptionClass\": \"\", \"trace\": \"\"}}, \"*\")"
      ],
      "text/plain": [
       "<IPython.core.display.Javascript object>"
      ]
     },
     "metadata": {},
     "output_type": "display_data"
    },
    {
     "data": {
      "text/markdown": [
       "<span style=\"color:#33cc33\">Correct</span>"
      ],
      "text/plain": [
       "Correct"
      ]
     },
     "metadata": {},
     "output_type": "display_data"
    }
   ],
   "source": [
    "# Your code here\n",
    "dtype = reviews.points.dtype\n",
    "\n",
    "# Check your answer\n",
    "q1.check()"
   ]
  },
  {
   "cell_type": "code",
   "execution_count": 3,
   "id": "3797f0f3",
   "metadata": {
    "execution": {
     "iopub.execute_input": "2023-06-30T12:18:00.388243Z",
     "iopub.status.busy": "2023-06-30T12:18:00.387846Z",
     "iopub.status.idle": "2023-06-30T12:18:00.392976Z",
     "shell.execute_reply": "2023-06-30T12:18:00.391528Z"
    },
    "papermill": {
     "duration": 0.015141,
     "end_time": "2023-06-30T12:18:00.395498",
     "exception": false,
     "start_time": "2023-06-30T12:18:00.380357",
     "status": "completed"
    },
    "tags": []
   },
   "outputs": [],
   "source": [
    "#q1.hint()\n",
    "#q1.solution()"
   ]
  },
  {
   "cell_type": "markdown",
   "id": "387ee399",
   "metadata": {
    "papermill": {
     "duration": 0.005745,
     "end_time": "2023-06-30T12:18:00.407354",
     "exception": false,
     "start_time": "2023-06-30T12:18:00.401609",
     "status": "completed"
    },
    "tags": []
   },
   "source": [
    "## 2. \n",
    "Create a Series from entries in the `points` column, but convert the entries to strings. Hint: strings are `str` in native Python."
   ]
  },
  {
   "cell_type": "code",
   "execution_count": 4,
   "id": "4c18be99",
   "metadata": {
    "execution": {
     "iopub.execute_input": "2023-06-30T12:18:00.421719Z",
     "iopub.status.busy": "2023-06-30T12:18:00.421228Z",
     "iopub.status.idle": "2023-06-30T12:18:00.524591Z",
     "shell.execute_reply": "2023-06-30T12:18:00.522874Z"
    },
    "papermill": {
     "duration": 0.113836,
     "end_time": "2023-06-30T12:18:00.527326",
     "exception": false,
     "start_time": "2023-06-30T12:18:00.413490",
     "status": "completed"
    },
    "tags": []
   },
   "outputs": [
    {
     "data": {
      "application/javascript": [
       "parent.postMessage({\"jupyterEvent\": \"custom.exercise_interaction\", \"data\": {\"outcomeType\": 1, \"valueTowardsCompletion\": 0.25, \"interactionType\": 1, \"questionType\": 1, \"questionId\": \"2_StrPoints\", \"learnToolsVersion\": \"0.3.4\", \"failureMessage\": \"\", \"exceptionClass\": \"\", \"trace\": \"\"}}, \"*\")"
      ],
      "text/plain": [
       "<IPython.core.display.Javascript object>"
      ]
     },
     "metadata": {},
     "output_type": "display_data"
    },
    {
     "data": {
      "text/markdown": [
       "<span style=\"color:#33cc33\">Correct</span>"
      ],
      "text/plain": [
       "Correct"
      ]
     },
     "metadata": {},
     "output_type": "display_data"
    }
   ],
   "source": [
    "point_strings = reviews.points.astype('str')\n",
    "\n",
    "# Check your answer\n",
    "q2.check()"
   ]
  },
  {
   "cell_type": "code",
   "execution_count": 5,
   "id": "df03f5e2",
   "metadata": {
    "execution": {
     "iopub.execute_input": "2023-06-30T12:18:00.541924Z",
     "iopub.status.busy": "2023-06-30T12:18:00.541537Z",
     "iopub.status.idle": "2023-06-30T12:18:00.546451Z",
     "shell.execute_reply": "2023-06-30T12:18:00.545167Z"
    },
    "papermill": {
     "duration": 0.015404,
     "end_time": "2023-06-30T12:18:00.549065",
     "exception": false,
     "start_time": "2023-06-30T12:18:00.533661",
     "status": "completed"
    },
    "tags": []
   },
   "outputs": [],
   "source": [
    "#q2.hint()\n",
    "#q2.solution()"
   ]
  },
  {
   "cell_type": "markdown",
   "id": "32eef86f",
   "metadata": {
    "papermill": {
     "duration": 0.006453,
     "end_time": "2023-06-30T12:18:00.562097",
     "exception": false,
     "start_time": "2023-06-30T12:18:00.555644",
     "status": "completed"
    },
    "tags": []
   },
   "source": [
    "## 3.\n",
    "Sometimes the price column is null. How many reviews in the dataset are missing a price?"
   ]
  },
  {
   "cell_type": "code",
   "execution_count": 6,
   "id": "48ec9cbd",
   "metadata": {
    "execution": {
     "iopub.execute_input": "2023-06-30T12:18:00.576938Z",
     "iopub.status.busy": "2023-06-30T12:18:00.576543Z",
     "iopub.status.idle": "2023-06-30T12:18:00.586748Z",
     "shell.execute_reply": "2023-06-30T12:18:00.585566Z"
    },
    "papermill": {
     "duration": 0.020829,
     "end_time": "2023-06-30T12:18:00.589357",
     "exception": false,
     "start_time": "2023-06-30T12:18:00.568528",
     "status": "completed"
    },
    "tags": []
   },
   "outputs": [
    {
     "data": {
      "application/javascript": [
       "parent.postMessage({\"jupyterEvent\": \"custom.exercise_interaction\", \"data\": {\"outcomeType\": 1, \"valueTowardsCompletion\": 0.25, \"interactionType\": 1, \"questionType\": 1, \"questionId\": \"3_CountMissingPrices\", \"learnToolsVersion\": \"0.3.4\", \"failureMessage\": \"\", \"exceptionClass\": \"\", \"trace\": \"\"}}, \"*\")"
      ],
      "text/plain": [
       "<IPython.core.display.Javascript object>"
      ]
     },
     "metadata": {},
     "output_type": "display_data"
    },
    {
     "data": {
      "text/markdown": [
       "<span style=\"color:#33cc33\">Correct</span>"
      ],
      "text/plain": [
       "Correct"
      ]
     },
     "metadata": {},
     "output_type": "display_data"
    }
   ],
   "source": [
    "n_missing_prices = reviews.price.isnull().sum()\n",
    "\n",
    "# Check your answer\n",
    "q3.check()"
   ]
  },
  {
   "cell_type": "code",
   "execution_count": 7,
   "id": "e7bac9e5",
   "metadata": {
    "execution": {
     "iopub.execute_input": "2023-06-30T12:18:00.605235Z",
     "iopub.status.busy": "2023-06-30T12:18:00.604848Z",
     "iopub.status.idle": "2023-06-30T12:18:00.610230Z",
     "shell.execute_reply": "2023-06-30T12:18:00.609052Z"
    },
    "papermill": {
     "duration": 0.016354,
     "end_time": "2023-06-30T12:18:00.612634",
     "exception": false,
     "start_time": "2023-06-30T12:18:00.596280",
     "status": "completed"
    },
    "tags": []
   },
   "outputs": [],
   "source": [
    "#q3.hint()\n",
    "#q3.solution()"
   ]
  },
  {
   "cell_type": "markdown",
   "id": "f22a57c4",
   "metadata": {
    "papermill": {
     "duration": 0.006432,
     "end_time": "2023-06-30T12:18:00.625909",
     "exception": false,
     "start_time": "2023-06-30T12:18:00.619477",
     "status": "completed"
    },
    "tags": []
   },
   "source": [
    "## 4.\n",
    "What are the most common wine-producing regions? Create a Series counting the number of times each value occurs in the `region_1` field. This field is often missing data, so replace missing values with `Unknown`. Sort in descending order.  Your output should look something like this:\n",
    "\n",
    "```\n",
    "Unknown                    21247\n",
    "Napa Valley                 4480\n",
    "                           ...  \n",
    "Bardolino Superiore            1\n",
    "Primitivo del Tarantino        1\n",
    "Name: region_1, Length: 1230, dtype: int64\n",
    "```"
   ]
  },
  {
   "cell_type": "code",
   "execution_count": 8,
   "id": "384042c9",
   "metadata": {
    "execution": {
     "iopub.execute_input": "2023-06-30T12:18:00.641278Z",
     "iopub.status.busy": "2023-06-30T12:18:00.640871Z",
     "iopub.status.idle": "2023-06-30T12:18:00.724295Z",
     "shell.execute_reply": "2023-06-30T12:18:00.723390Z"
    },
    "papermill": {
     "duration": 0.094038,
     "end_time": "2023-06-30T12:18:00.726770",
     "exception": false,
     "start_time": "2023-06-30T12:18:00.632732",
     "status": "completed"
    },
    "tags": []
   },
   "outputs": [
    {
     "data": {
      "application/javascript": [
       "parent.postMessage({\"jupyterEvent\": \"custom.exercise_interaction\", \"data\": {\"outcomeType\": 1, \"valueTowardsCompletion\": 0.25, \"interactionType\": 1, \"questionType\": 2, \"questionId\": \"4_ReviewsPerRegion\", \"learnToolsVersion\": \"0.3.4\", \"failureMessage\": \"\", \"exceptionClass\": \"\", \"trace\": \"\"}}, \"*\")"
      ],
      "text/plain": [
       "<IPython.core.display.Javascript object>"
      ]
     },
     "metadata": {},
     "output_type": "display_data"
    },
    {
     "data": {
      "text/markdown": [
       "<span style=\"color:#33cc33\">Correct</span>"
      ],
      "text/plain": [
       "Correct"
      ]
     },
     "metadata": {},
     "output_type": "display_data"
    }
   ],
   "source": [
    "\n",
    "reviews_per_region = reviews.region_1.fillna('unknown').value_counts()\n",
    "\n",
    "# Check your answer\n",
    "q4.check()"
   ]
  },
  {
   "cell_type": "code",
   "execution_count": 9,
   "id": "324792c4",
   "metadata": {
    "execution": {
     "iopub.execute_input": "2023-06-30T12:18:00.742963Z",
     "iopub.status.busy": "2023-06-30T12:18:00.742499Z",
     "iopub.status.idle": "2023-06-30T12:18:00.747032Z",
     "shell.execute_reply": "2023-06-30T12:18:00.745941Z"
    },
    "papermill": {
     "duration": 0.015591,
     "end_time": "2023-06-30T12:18:00.749451",
     "exception": false,
     "start_time": "2023-06-30T12:18:00.733860",
     "status": "completed"
    },
    "tags": []
   },
   "outputs": [],
   "source": [
    "#q4.hint()\n",
    "#q4.solution()"
   ]
  },
  {
   "cell_type": "markdown",
   "id": "d5681a2e",
   "metadata": {
    "papermill": {
     "duration": 0.007016,
     "end_time": "2023-06-30T12:18:00.764527",
     "exception": false,
     "start_time": "2023-06-30T12:18:00.757511",
     "status": "completed"
    },
    "tags": []
   },
   "source": [
    "# Keep going\n",
    "\n",
    "Move on to **[renaming and combining](https://www.kaggle.com/residentmario/renaming-and-combining)**."
   ]
  },
  {
   "cell_type": "markdown",
   "id": "64bc7675",
   "metadata": {
    "papermill": {
     "duration": 0.006864,
     "end_time": "2023-06-30T12:18:00.779082",
     "exception": false,
     "start_time": "2023-06-30T12:18:00.772218",
     "status": "completed"
    },
    "tags": []
   },
   "source": [
    "---\n",
    "\n",
    "\n",
    "\n",
    "\n",
    "*Have questions or comments? Visit the [course discussion forum](https://www.kaggle.com/learn/pandas/discussion) to chat with other learners.*"
   ]
  }
 ],
 "metadata": {
  "kernelspec": {
   "display_name": "Python 3",
   "language": "python",
   "name": "python3"
  },
  "language_info": {
   "codemirror_mode": {
    "name": "ipython",
    "version": 3
   },
   "file_extension": ".py",
   "mimetype": "text/x-python",
   "name": "python",
   "nbconvert_exporter": "python",
   "pygments_lexer": "ipython3",
   "version": "3.10.10"
  },
  "papermill": {
   "default_parameters": {},
   "duration": 18.21195,
   "end_time": "2023-06-30T12:18:01.710056",
   "environment_variables": {},
   "exception": null,
   "input_path": "__notebook__.ipynb",
   "output_path": "__notebook__.ipynb",
   "parameters": {},
   "start_time": "2023-06-30T12:17:43.498106",
   "version": "2.4.0"
  }
 },
 "nbformat": 4,
 "nbformat_minor": 5
}
